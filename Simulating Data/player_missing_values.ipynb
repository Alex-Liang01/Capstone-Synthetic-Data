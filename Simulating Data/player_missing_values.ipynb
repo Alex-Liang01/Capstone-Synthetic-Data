{
 "cells": [
  {
   "cell_type": "code",
   "execution_count": null,
   "metadata": {},
   "outputs": [],
   "source": [
    "import pandas as pd\n",
    "import numpy as np\n",
    "import random\n",
    "import os\n",
    "import pathlib"
   ]
  },
  {
   "cell_type": "code",
   "execution_count": null,
   "metadata": {},
   "outputs": [],
   "source": [
    "script_dir = pathlib.Path().resolve()\n",
    "os.chdir(script_dir)\n",
    "random.seed(123)"
   ]
  },
  {
   "cell_type": "code",
   "execution_count": null,
   "metadata": {},
   "outputs": [],
   "source": [
    "player=pd.read_csv(\"player.csv\")"
   ]
  },
  {
   "cell_type": "code",
   "execution_count": null,
   "metadata": {},
   "outputs": [],
   "source": [
    "#Using player generation dictionary to impute missing values with the same proportions\n",
    "def generation_imputation(player):\n",
    "    player['generation']=player['generation'].replace(np.NaN, 'Other')\n",
    "    player_known_generation=player[player['generation']!='Other']\n",
    "    generation_dict=(player_known_generation['generation'].value_counts()/len(player_known_generation)).to_dict()\n",
    "    values = list(generation_dict.keys())\n",
    "    weights = list(generation_dict.values())\n",
    "    player['generation'] = player['generation'].apply(lambda x: random.choices(values, weights=weights, k=1)[0] if x == 'Other' else x)\n",
    "    return player\n",
    "\n",
    "player=generation_imputation(player)"
   ]
  },
  {
   "cell_type": "code",
   "execution_count": null,
   "metadata": {},
   "outputs": [],
   "source": [
    "generations_to_years = {\n",
    "    \"Silent Generation\": (1928, 1945),\n",
    "    \"Baby Boomer\": (1946, 1964),\n",
    "    \"Gen-X\": (1965, 1980),\n",
    "    \"Millennial\": (1981, 1996),\n",
    "    \"Gen-Z\": (1997, 2012),\n",
    "    \"Other\": None\n",
    "}\n",
    "\n",
    "\n",
    "# Function for generating birthdates using the generation column\n",
    "def generate_birth_date(generation):\n",
    "    if generation in generations_to_years and generations_to_years[generation]:\n",
    "        start_year, end_year = generations_to_years[generation]\n",
    "        year = random.randint(start_year, end_year)\n",
    "        month = random.randint(1, 12)\n",
    "        if month == 2:\n",
    "            if year%4==0:\n",
    "                day=random.randint(1, 29)\n",
    "            else:\n",
    "                day = random.randint(1, 28)\n",
    "        elif month in [1,3,5,7,8,10,12]:\n",
    "            day = random.randint(1, 31)\n",
    "        else:\n",
    "            day=random.randint(1,30)\n",
    "        return f\"{year}-{month:02d}-{day:02d}\"\n",
    "    \n",
    "player['dateOfBirth']=player['generation'].apply(lambda x: generate_birth_date(x))"
   ]
  },
  {
   "cell_type": "code",
   "execution_count": null,
   "metadata": {},
   "outputs": [],
   "source": [
    "#Reallocating gender distribution to common video game industry proportions\n",
    "def gender_reallocation(player,values=['Male','Female','Non-Binary'],weights=[0.70,0.25,0.05]):\n",
    "    player['gender']= player['gender'].apply(lambda x: random.choices(values, weights=weights, k=1)[0])\n",
    "    player.drop('generation',inplace=True,axis=1)\n",
    "    return player\n",
    "\n",
    "player=gender_reallocation(player)"
   ]
  },
  {
   "cell_type": "code",
   "execution_count": null,
   "metadata": {},
   "outputs": [],
   "source": [
    "# Parameters for columns allowed to be missing, observations to sample, and missing percentages explored\n",
    "missing_cols=['gender','countryCode','dateOfBirth']\n",
    "obs=[10000,25000,50000]\n",
    "missing_percentages=[0,0.1,0.2]\n",
    "\n",
    "def generating(player, obs, missing_percentages, missing_cols,path):\n",
    "    for row in obs:\n",
    "        for percentage in missing_percentages:\n",
    "            # Sampling obs number of rows\n",
    "            data = player.sample(n=row, replace=False, random_state=123).reset_index(drop=True)\n",
    "            num_missing = int(row * percentage)\n",
    "            missing_rows = np.random.choice(row, num_missing, replace=False)\n",
    "\n",
    "            #Selecting rows and columns to be assigned as missing\n",
    "            missing_points = []\n",
    "            for row_idx in missing_rows:\n",
    "                num_cols = np.random.randint(1, len(missing_cols) + 1)\n",
    "                cols = np.random.choice(missing_cols, size=num_cols, replace=False)\n",
    "                for col in cols:\n",
    "                    missing_points.append((row_idx, col))\n",
    "\n",
    "            # Setting the elements chosen to be missing\n",
    "            for row_idx, col in missing_points:\n",
    "                data.at[row_idx, col] = np.nan\n",
    "          \n",
    "            print(f'{row}_obs_{int(percentage*100)}_percent_missing')\n",
    "            print(f\"Missing values introduced: {data.isnull().sum().sum()}\")\n",
    "            print(f\"Rows with missing values: {data.isnull().sum(axis=1).gt(0).sum()}\")\n",
    "            print(f'Number of rows {data.shape[0]}')\n",
    "            print(f'Number of cols {data.shape[1]}')\n",
    "            print(f'Number of cells {data.size}')\n",
    "            print(\"Missing values by column\")\n",
    "            print(data.isnull().sum())\n",
    "            print(\"\\n\")\n",
    "\n",
    "            data.to_csv(f'{path}/Simulated Data/{row}_obs_{int(percentage*100)}_percent_missing.csv', index=False)"
   ]
  },
  {
   "cell_type": "code",
   "execution_count": null,
   "metadata": {},
   "outputs": [],
   "source": [
    "generating(player,obs,missing_percentages,missing_cols,script_dir.parent)"
   ]
  }
 ],
 "metadata": {
  "kernelspec": {
   "display_name": "base",
   "language": "python",
   "name": "python3"
  },
  "language_info": {
   "codemirror_mode": {
    "name": "ipython",
    "version": 3
   },
   "file_extension": ".py",
   "mimetype": "text/x-python",
   "name": "python",
   "nbconvert_exporter": "python",
   "pygments_lexer": "ipython3",
   "version": "3.12.3"
  }
 },
 "nbformat": 4,
 "nbformat_minor": 2
}
