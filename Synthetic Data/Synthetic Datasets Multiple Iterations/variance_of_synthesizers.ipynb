{
 "cells": [
  {
   "cell_type": "code",
   "execution_count": 1,
   "id": "de9cc476",
   "metadata": {},
   "outputs": [],
   "source": [
    "import pandas as pd;\n",
    "import lightgbm as lgb\n",
    "\n",
    "from sklearn.preprocessing import StandardScaler\n",
    "\n",
    "from datetime import datetime\n",
    "from sklearn.model_selection import cross_val_score\n",
    "\n",
    "import numpy as np\n",
    "\n",
    "import pathlib\n",
    "import os\n",
    "\n",
    "from scipy.stats import chi2_contingency"
   ]
  },
  {
   "cell_type": "code",
   "execution_count": null,
   "id": "41e6d103",
   "metadata": {},
   "outputs": [],
   "source": [
    "#Reading in synthetic data\n",
    "def readSyntheticData(dependency):\n",
    "    rows=[10000,25000,50000]\n",
    "    missings=[0,10,20]\n",
    "    #Setting path based on dependency\n",
    "    if dependency==\"simulated\":\n",
    "        prefix_path=\"\"\n",
    "    elif dependency==\"high\":\n",
    "        prefix_path=f'{parent_dir}/../Simulating Data/Dependency/Synthetic Data Multiple Iterations/High/'\n",
    "    elif dependency==\"moderate\":\n",
    "        prefix_path=f'{parent_dir}/../Simulating Data/Dependency/Synthetic Data Multiple Iterations/Moderate/'\n",
    "    else:\n",
    "        prefix_path=f'{parent_dir}/../Simulating Data/Dependency/Synthetic Data Multiple Iterations/Low/'\n",
    "\n",
    "    # Reading in all synthetic datasets synthesized by CTGAN and TVAE\n",
    "    synthesizers=['TVAE','CTGAN']\n",
    "    synthetic_data_dict={}\n",
    "    for row in rows:\n",
    "        for missing in missings:\n",
    "            for synthesizer in synthesizers:\n",
    "                path=f'{prefix_path}{row} row {missing} missing/{synthesizer}'\n",
    "                key=f'{synthesizer}_{row}_{missing}'\n",
    "                synthetic_data_dict[key]=[]\n",
    "    \n",
    "                for file in os.listdir(path):\n",
    "                    if file.endswith(\".csv\"):\n",
    "                        df=pd.read_csv(os.path.join(path, file))\n",
    "                        synthetic_data_dict[key].append(df)\n",
    "                        \n",
    "    return synthetic_data_dict,dependency\n",
    "    "
   ]
  },
  {
   "cell_type": "code",
   "execution_count": null,
   "id": "8b978feb",
   "metadata": {},
   "outputs": [],
   "source": [
    "# Creating age using data of birth feature\n",
    "def age(df):\n",
    "    today=datetime.today()\n",
    "    df['dateOfBirth']=pd.to_datetime(df['dateOfBirth'])\n",
    "    df['age']=df['dateOfBirth'].apply(lambda x: today.year - x.year - ((today.month, today.day) < (x.month, x.day)))"
   ]
  },
  {
   "cell_type": "code",
   "execution_count": null,
   "id": "5286a696",
   "metadata": {},
   "outputs": [],
   "source": [
    "# Preprocessing categorical features and removing duplicates\n",
    "def preprocessing(df_list):\n",
    "    categorical_cols=['countryCode','gender','pilStatus','Language']\n",
    "    for df in df_list:\n",
    "        age(df)\n",
    "        df.dropna(axis=0,inplace=True)\n",
    "        df[categorical_cols]=df[categorical_cols].astype('category')\n"
   ]
  },
  {
   "cell_type": "code",
   "execution_count": null,
   "id": "8eda6608",
   "metadata": {},
   "outputs": [],
   "source": [
    "# RF on ratings\n",
    "def rf(data):\n",
    "    X = data.drop(['rating', 'id', 'hashedId', 'arcsId', 'dateOfBirth', 'emailAddress', 'generation'], axis=1, errors='ignore')\n",
    "    y = data['rating']\n",
    "\n",
    "    numeric_cols = X.select_dtypes(include=['number']).columns\n",
    "    categorical_cols = X.select_dtypes(include=['category','object']).columns\n",
    "\n",
    "    scaler = StandardScaler()\n",
    "    X[numeric_cols] = scaler.fit_transform(X[numeric_cols])\n",
    "\n",
    "    model = lgb.LGBMRegressor(\n",
    "        boosting_type='rf',\n",
    "        n_estimators=300,\n",
    "        max_depth=15,\n",
    "        subsample=0.8,\n",
    "        subsample_freq=1,\n",
    "        colsample_bytree=0.8,\n",
    "        min_child_samples=5,\n",
    "        device='cpu',\n",
    "        random_state=123,\n",
    "        n_jobs=-1\n",
    "    )\n",
    "\n",
    "    cv_scores = cross_val_score(model, X, y, cv=5, scoring='neg_mean_absolute_error', n_jobs=-1)\n",
    "\n",
    "    return -cv_scores.mean()"
   ]
  },
  {
   "cell_type": "code",
   "execution_count": null,
   "id": "8849baa2",
   "metadata": {},
   "outputs": [],
   "source": [
    "# Correlation between age and rating\n",
    "def corr(df):\n",
    "    correlation=df['age'].corr(df['rating'])\n",
    "    return correlation"
   ]
  },
  {
   "cell_type": "code",
   "execution_count": null,
   "id": "f71e6854",
   "metadata": {},
   "outputs": [],
   "source": [
    "# Cramer's V between countrycode and language\n",
    "def cramers_v(df):\n",
    "    confusion_matrix = pd.crosstab(df['countryCode'],df['Language'])  \n",
    "    chi2, p, dof, expected= chi2_contingency(confusion_matrix)  \n",
    "    n = confusion_matrix.sum().sum()\n",
    "    k = min(confusion_matrix.shape)  \n",
    "    if k > 1:\n",
    "        return np.sqrt(chi2 / (n * (k - 1)))\n",
    "    else:\n",
    "        return None\n"
   ]
  },
  {
   "cell_type": "code",
   "execution_count": null,
   "id": "6f8178f3",
   "metadata": {},
   "outputs": [],
   "source": [
    "# For loop for metrics across all synthetic datasets\n",
    "def variability(synthetic_data_dict,mae_df,corr_df,cramers_df):\n",
    "    for key, df_list in synthetic_data_dict.items():\n",
    "        for i, df in enumerate(df_list):\n",
    "            mae_df.at[i,key]=rf(df)\n",
    "            corr_df.at[i,key]=corr(df)\n",
    "            cramers_df.at[i,key]=cramers_v(df)"
   ]
  },
  {
   "cell_type": "code",
   "execution_count": null,
   "id": "f7c6f706",
   "metadata": {},
   "outputs": [],
   "source": [
    "# Saving metrics\n",
    "def save_Metrics(dependency,mae_df,corr_df,cramers_df):\n",
    "    # Defining save path based on dependency\n",
    "    if dependency==\"simulated\":\n",
    "        prefix_path=\"\"\n",
    "    elif dependency==\"high\":\n",
    "        prefix_path=f'{parent_dir}/../Simulating Data/Dependency/Synthetic Data Multiple Iterations/High/'\n",
    "    elif dependency==\"moderate\":\n",
    "        prefix_path=f'{parent_dir}/../Simulating Data/Dependency/Synthetic Data Multiple Iterations/Moderate/'\n",
    "    else:\n",
    "        prefix_path=f'{parent_dir}/../Simulating Data/Dependency/Synthetic Data Multiple Iterations/Low/'\n",
    "        \n",
    "    cramers_df.to_csv(f'{prefix_path}cramers_multiple_iters.csv', index=False)\n",
    "    mae_df.to_csv(f'{prefix_path}mae_multiple_iters.csv', index=False)\n",
    "    corr_df.to_csv(f'{prefix_path}corr_multiple_iters.csv', index=False)"
   ]
  },
  {
   "cell_type": "code",
   "execution_count": null,
   "id": "9960faf0",
   "metadata": {},
   "outputs": [],
   "source": [
    "def main(dependency):\n",
    "    synthetic_data_dict,dependency=readSyntheticData(dependency)\n",
    "\n",
    "    for df_list in synthetic_data_dict.values():\n",
    "        preprocessing(df_list)\n",
    "\n",
    "    #Creating dataframes for each metric\n",
    "    mae_df=pd.DataFrame(columns=synthetic_data_dict.keys())\n",
    "    corr_df=pd.DataFrame(columns=synthetic_data_dict.keys())\n",
    "    cramers_df=pd.DataFrame(columns=synthetic_data_dict.keys())\n",
    "    \n",
    "    variability(synthetic_data_dict,mae_df,corr_df,cramers_df)\n",
    "    save_Metrics(dependency,mae_df,corr_df,cramers_df)"
   ]
  },
  {
   "cell_type": "code",
   "execution_count": null,
   "id": "9bf261c2",
   "metadata": {},
   "outputs": [],
   "source": [
    "script_dir = pathlib.Path().resolve()\n",
    "os.chdir(script_dir)\n",
    "parent_dir=script_dir.parent\n",
    "\n",
    "rows = [10000, 25000, 50000]\n",
    "missings = [0, 10, 20]\n",
    "\n",
    "main(\"simulated\")\n",
    "main(\"low\")\n",
    "main(\"moderate\")\n",
    "main(\"high\")"
   ]
  }
 ],
 "metadata": {
  "kernelspec": {
   "display_name": "base",
   "language": "python",
   "name": "python3"
  },
  "language_info": {
   "codemirror_mode": {
    "name": "ipython",
    "version": 3
   },
   "file_extension": ".py",
   "mimetype": "text/x-python",
   "name": "python",
   "nbconvert_exporter": "python",
   "pygments_lexer": "ipython3",
   "version": "3.12.3"
  }
 },
 "nbformat": 4,
 "nbformat_minor": 5
}
