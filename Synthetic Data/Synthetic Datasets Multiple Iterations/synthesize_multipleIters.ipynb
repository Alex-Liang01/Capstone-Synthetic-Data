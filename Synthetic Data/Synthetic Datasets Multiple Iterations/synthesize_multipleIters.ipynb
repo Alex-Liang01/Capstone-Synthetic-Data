{
 "cells": [
  {
   "cell_type": "code",
   "execution_count": 1,
   "id": "11cb6851",
   "metadata": {},
   "outputs": [],
   "source": [
    "import pandas as pd\n",
    "import numpy as np\n",
    "from sdv.metadata import Metadata\n",
    "from sdv.single_table import GaussianCopulaSynthesizer, CTGANSynthesizer, TVAESynthesizer\n",
    "import pathlib\n",
    "import os\n"
   ]
  },
  {
   "cell_type": "code",
   "execution_count": null,
   "id": "c199ce8e",
   "metadata": {},
   "outputs": [],
   "source": [
    "def loadTrainedSynthesizers(dependency):\n",
    "    synthesizers=['ctgan','tvae']\n",
    "    rows=[10000,25000,50000]\n",
    "    missings=[0,10,20]\n",
    "\n",
    "    \n",
    "    #Setting up paths to trained synthesizers based off dependency type\n",
    "    if dependency==\"simulated\":\n",
    "        path=f'{parent_dir}/'\n",
    "    elif dependency==\"high\":\n",
    "        path=f'{parent_dir}/../Simulating Data/Dependency/Dependency Synthetic Data/High/'\n",
    "    elif dependency==\"moderate\":\n",
    "        path=f'{parent_dir}/../Simulating Data/Dependency/Dependency Synthetic Data/Moderate/'\n",
    "    else:\n",
    "        path=f'{parent_dir}/../Simulating Data/Dependency/Dependency Synthetic Data/Low/'\n",
    "\n",
    "    #Reading all CTGAN and TVAE trained synthesizers\n",
    "    for synthesizer in synthesizers:\n",
    "        for row in rows:\n",
    "            for missing in missings:\n",
    "                file_name = f\"{synthesizer} {row} row {missing} missing.pkl\"\n",
    "                name=f\"{synthesizer}_{row}_{missing}\"\n",
    "                print(name)\n",
    "                if synthesizer=='ctgan':\n",
    "                    globals()[name]= CTGANSynthesizer.load(path + file_name)\n",
    "                else:\n",
    "                    globals()[name]=TVAESynthesizer.load(path + file_name)\n",
    "    \n",
    "    return dependency"
   ]
  },
  {
   "cell_type": "code",
   "execution_count": null,
   "id": "ac5a5a99",
   "metadata": {},
   "outputs": [],
   "source": [
    "#Sampling datasets from the trained synthesizers and saving to csvs\n",
    "def synthesizingDatasets(synthesizer_dict,iters,synthesizer_type,dependency):\n",
    "    #Setting save path of csvs based on dependency type\n",
    "    if dependency==\"simulated\":\n",
    "        save_path=''\n",
    "    elif dependency==\"high\":\n",
    "        save_path=f'{parent_dir}/../Simulating Data/Dependency/Synthetic Data Multiple Iterations/High/'\n",
    "    elif dependency==\"moderate\":\n",
    "        save_path=f'{parent_dir}/../Simulating Data/Dependency/Synthetic Data Multiple Iterations/Moderate/'\n",
    "    else:\n",
    "        save_path=f'{parent_dir}/../Simulating Data/Dependency/Synthetic Data Multiple Iterations/Low/'\n",
    "    \n",
    "    \n",
    "    #Sampling datasets from the trained synthesizers and saving to csvs\n",
    "    for name,synthesizer in synthesizer_dict.items():\n",
    "        split_name=name.split('_')\n",
    "        row=split_name[0]\n",
    "        n=int(row)\n",
    "        missing=split_name[1]\n",
    "        for i in range(iters):\n",
    "            df=synthesizer.sample(num_rows=n)\n",
    "            synthesizer_type_lower=synthesizer_type.lower()\n",
    "            df.to_csv(f'{save_path}{row} row {missing} missing/{synthesizer_type}/{row} rows_synthetic_{synthesizer_type_lower}_{i}.csv',index=False)\n",
    "       \n"
   ]
  },
  {
   "cell_type": "code",
   "execution_count": null,
   "id": "54e53245",
   "metadata": {},
   "outputs": [],
   "source": [
    "#Setting up paths\n",
    "script_dir = pathlib.Path().resolve()\n",
    "os.chdir(script_dir)\n",
    "parent_dir=script_dir.parent\n",
    "\n",
    "def main(dependency):\n",
    "    dependency=loadTrainedSynthesizers(dependency)\n",
    "\n",
    "    ctgan_synthesizers = {\n",
    "        '10000_0': ctgan_10000_0,\n",
    "        '10000_10': ctgan_10000_10,\n",
    "        '10000_20': ctgan_10000_20,\n",
    "        '25000_0': ctgan_25000_0,\n",
    "        '25000_10': ctgan_25000_10,\n",
    "        '25000_20': ctgan_25000_20,\n",
    "        '50000_0': ctgan_50000_0,\n",
    "        '50000_10': ctgan_50000_10,\n",
    "        '50000_20': ctgan_50000_20\n",
    "    }\n",
    "\n",
    "\n",
    "    tvae_synthesizers = {\n",
    "        '10000_0': tvae_10000_0,\n",
    "        '10000_10': tvae_10000_10,\n",
    "        '10000_20': tvae_10000_20,\n",
    "        '25000_0': tvae_25000_0,\n",
    "        '25000_10': tvae_25000_10,\n",
    "        '25000_20': tvae_25000_20,\n",
    "        '50000_0': tvae_50000_0,\n",
    "        '50000_10': tvae_50000_10,    \n",
    "        '50000_20': tvae_50000_20\n",
    "    }\n",
    "    synthesizingDatasets(tvae_synthesizers,100,'TVAE',dependency)\n",
    "    synthesizingDatasets(ctgan_synthesizers,100,'CTGAN',dependency)"
   ]
  },
  {
   "cell_type": "code",
   "execution_count": null,
   "id": "aa29e8e0",
   "metadata": {},
   "outputs": [],
   "source": [
    "main(\"simulated\")\n",
    "main(\"high\")\n",
    "main(\"moderate\")\n",
    "main(\"low\")"
   ]
  }
 ],
 "metadata": {
  "kernelspec": {
   "display_name": "base",
   "language": "python",
   "name": "python3"
  },
  "language_info": {
   "codemirror_mode": {
    "name": "ipython",
    "version": 3
   },
   "file_extension": ".py",
   "mimetype": "text/x-python",
   "name": "python",
   "nbconvert_exporter": "python",
   "pygments_lexer": "ipython3",
   "version": "3.12.3"
  }
 },
 "nbformat": 4,
 "nbformat_minor": 5
}
